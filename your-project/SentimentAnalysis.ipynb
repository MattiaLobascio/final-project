{
 "cells": [
  {
   "cell_type": "markdown",
   "metadata": {},
   "source": [
    "## USEFULL LINKS"
   ]
  },
  {
   "cell_type": "markdown",
   "metadata": {},
   "source": [
    "Sentiment Analysis:\n",
    "\n",
    "https://towardsdatascience.com/building-an-altcoin-market-sentiment-monitor-99226a6f03f6\n",
    "\n",
    "https://medium.com/analytics-vidhya/simplifying-social-media-sentiment-analysis-using-vader-in-python-f9e6ec6fc52f\n",
    "\n",
    "https://github.com/cjhutto/vaderSentiment#about-the-scoring\n",
    "\n",
    "https://textblob.readthedocs.io/en/dev/quickstart.html\n",
    "\n",
    "https://medium.com/@BlockchainEng/crypto-trading-bot-sentiment-analysis-bot-bfbd8dd1df5a"
   ]
  },
  {
   "cell_type": "markdown",
   "metadata": {},
   "source": [
    "## LIBRARIES"
   ]
  },
  {
   "cell_type": "code",
   "execution_count": 48,
   "metadata": {},
   "outputs": [
    {
     "name": "stderr",
     "output_type": "stream",
     "text": [
      "[nltk_data] Downloading package vader_lexicon to\n",
      "[nltk_data]     /home/mattia/nltk_data...\n",
      "[nltk_data]   Package vader_lexicon is already up-to-date!\n"
     ]
    }
   ],
   "source": [
    "import pandas as pd\n",
    "import re\n",
    "import nltk\n",
    "from nltk.sentiment.vader import SentimentIntensityAnalyzer\n",
    "from textblob import TextBlob"
   ]
  },
  {
   "cell_type": "markdown",
   "metadata": {},
   "source": [
    "## IMPORT DATA"
   ]
  },
  {
   "cell_type": "code",
   "execution_count": 23,
   "metadata": {},
   "outputs": [
    {
     "name": "stdout",
     "output_type": "stream",
     "text": [
      "(106111, 3)\n"
     ]
    },
    {
     "data": {
      "text/html": [
       "<div>\n",
       "<style scoped>\n",
       "    .dataframe tbody tr th:only-of-type {\n",
       "        vertical-align: middle;\n",
       "    }\n",
       "\n",
       "    .dataframe tbody tr th {\n",
       "        vertical-align: top;\n",
       "    }\n",
       "\n",
       "    .dataframe thead th {\n",
       "        text-align: right;\n",
       "    }\n",
       "</style>\n",
       "<table border=\"1\" class=\"dataframe\">\n",
       "  <thead>\n",
       "    <tr style=\"text-align: right;\">\n",
       "      <th></th>\n",
       "      <th>time</th>\n",
       "      <th>text</th>\n",
       "      <th>retweets</th>\n",
       "    </tr>\n",
       "  </thead>\n",
       "  <tbody>\n",
       "    <tr>\n",
       "      <th>0</th>\n",
       "      <td>2019-11-30 23:00:00</td>\n",
       "      <td>Big moves and trend changes are preceded by ab...</td>\n",
       "      <td>0</td>\n",
       "    </tr>\n",
       "    <tr>\n",
       "      <th>1</th>\n",
       "      <td>2019-11-30 22:00:00</td>\n",
       "      <td>That is a sign of a change of trend ... We can...</td>\n",
       "      <td>0</td>\n",
       "    </tr>\n",
       "    <tr>\n",
       "      <th>2</th>\n",
       "      <td>2019-11-30 21:00:00</td>\n",
       "      <td>Bitcoin’s Price Drop, an Opportunity! - Future...</td>\n",
       "      <td>0</td>\n",
       "    </tr>\n",
       "    <tr>\n",
       "      <th>3</th>\n",
       "      <td>2019-11-30 21:00:00</td>\n",
       "      <td>The Bitcoin market tends to repeat itself ofte...</td>\n",
       "      <td>0</td>\n",
       "    </tr>\n",
       "    <tr>\n",
       "      <th>4</th>\n",
       "      <td>2019-11-30 21:00:00</td>\n",
       "      <td>#BTCUSD - BITCOIN - VA 51 - La halfway ed il c...</td>\n",
       "      <td>0</td>\n",
       "    </tr>\n",
       "    <tr>\n",
       "      <th>...</th>\n",
       "      <td>...</td>\n",
       "      <td>...</td>\n",
       "      <td>...</td>\n",
       "    </tr>\n",
       "    <tr>\n",
       "      <th>106106</th>\n",
       "      <td>2017-07-02 02:00:00</td>\n",
       "      <td>EARN Bitcoin and CASH IN on the BOOMING TREND....</td>\n",
       "      <td>0</td>\n",
       "    </tr>\n",
       "    <tr>\n",
       "      <th>106107</th>\n",
       "      <td>2017-07-02 02:00:00</td>\n",
       "      <td>EARN Bitcoin and CASH IN on the BOOMING TREND....</td>\n",
       "      <td>0</td>\n",
       "    </tr>\n",
       "    <tr>\n",
       "      <th>106108</th>\n",
       "      <td>2017-07-02 02:00:00</td>\n",
       "      <td>BITCOIN Is Becoming More and More MAINSTREAM.....</td>\n",
       "      <td>0</td>\n",
       "    </tr>\n",
       "    <tr>\n",
       "      <th>106109</th>\n",
       "      <td>2017-07-02 01:00:00</td>\n",
       "      <td>Online Penny Slots The biggest trend in gaming...</td>\n",
       "      <td>0</td>\n",
       "    </tr>\n",
       "    <tr>\n",
       "      <th>106110</th>\n",
       "      <td>2017-07-02 00:00:00</td>\n",
       "      <td>EARN Bitcoin and CASH IN on the BOOMING TREND....</td>\n",
       "      <td>0</td>\n",
       "    </tr>\n",
       "  </tbody>\n",
       "</table>\n",
       "<p>106111 rows × 3 columns</p>\n",
       "</div>"
      ],
      "text/plain": [
       "                       time  \\\n",
       "0       2019-11-30 23:00:00   \n",
       "1       2019-11-30 22:00:00   \n",
       "2       2019-11-30 21:00:00   \n",
       "3       2019-11-30 21:00:00   \n",
       "4       2019-11-30 21:00:00   \n",
       "...                     ...   \n",
       "106106  2017-07-02 02:00:00   \n",
       "106107  2017-07-02 02:00:00   \n",
       "106108  2017-07-02 02:00:00   \n",
       "106109  2017-07-02 01:00:00   \n",
       "106110  2017-07-02 00:00:00   \n",
       "\n",
       "                                                     text  retweets  \n",
       "0       Big moves and trend changes are preceded by ab...         0  \n",
       "1       That is a sign of a change of trend ... We can...         0  \n",
       "2       Bitcoin’s Price Drop, an Opportunity! - Future...         0  \n",
       "3       The Bitcoin market tends to repeat itself ofte...         0  \n",
       "4       #BTCUSD - BITCOIN - VA 51 - La halfway ed il c...         0  \n",
       "...                                                   ...       ...  \n",
       "106106  EARN Bitcoin and CASH IN on the BOOMING TREND....         0  \n",
       "106107  EARN Bitcoin and CASH IN on the BOOMING TREND....         0  \n",
       "106108  BITCOIN Is Becoming More and More MAINSTREAM.....         0  \n",
       "106109  Online Penny Slots The biggest trend in gaming...         0  \n",
       "106110  EARN Bitcoin and CASH IN on the BOOMING TREND....         0  \n",
       "\n",
       "[106111 rows x 3 columns]"
      ]
     },
     "execution_count": 23,
     "metadata": {},
     "output_type": "execute_result"
    }
   ],
   "source": [
    "tweets = pd.read_csv(\"btc_tweets_FINAL.csv\")\n",
    "print(tweets.shape)\n",
    "tweets.sort_values(by=\"time\",ascending=False, inplace=True)\n",
    "tweets.reset_index(drop=True,inplace=True)\n",
    "tweets"
   ]
  },
  {
   "cell_type": "markdown",
   "metadata": {},
   "source": [
    "## SENTIMENT ANALYSIS"
   ]
  },
  {
   "cell_type": "code",
   "execution_count": 24,
   "metadata": {},
   "outputs": [
    {
     "data": {
      "text/html": [
       "<div>\n",
       "<style scoped>\n",
       "    .dataframe tbody tr th:only-of-type {\n",
       "        vertical-align: middle;\n",
       "    }\n",
       "\n",
       "    .dataframe tbody tr th {\n",
       "        vertical-align: top;\n",
       "    }\n",
       "\n",
       "    .dataframe thead th {\n",
       "        text-align: right;\n",
       "    }\n",
       "</style>\n",
       "<table border=\"1\" class=\"dataframe\">\n",
       "  <thead>\n",
       "    <tr style=\"text-align: right;\">\n",
       "      <th></th>\n",
       "      <th>time</th>\n",
       "      <th>text</th>\n",
       "      <th>retweets</th>\n",
       "    </tr>\n",
       "  </thead>\n",
       "  <tbody>\n",
       "    <tr>\n",
       "      <th>0</th>\n",
       "      <td>2019-11-30 23:00:00</td>\n",
       "      <td>Big moves and trend changes are preceded by ab...</td>\n",
       "      <td>0</td>\n",
       "    </tr>\n",
       "    <tr>\n",
       "      <th>1</th>\n",
       "      <td>2019-11-30 22:00:00</td>\n",
       "      <td>That is a sign of a change of trend ... We can...</td>\n",
       "      <td>0</td>\n",
       "    </tr>\n",
       "    <tr>\n",
       "      <th>2</th>\n",
       "      <td>2019-11-30 21:00:00</td>\n",
       "      <td>Bitcoin’s Price Drop, an Opportunity! - Future...</td>\n",
       "      <td>0</td>\n",
       "    </tr>\n",
       "    <tr>\n",
       "      <th>3</th>\n",
       "      <td>2019-11-30 21:00:00</td>\n",
       "      <td>The Bitcoin market tends to repeat itself ofte...</td>\n",
       "      <td>0</td>\n",
       "    </tr>\n",
       "    <tr>\n",
       "      <th>4</th>\n",
       "      <td>2019-11-30 21:00:00</td>\n",
       "      <td>#BTCUSD - BITCOIN - VA 51 - La halfway ed il c...</td>\n",
       "      <td>0</td>\n",
       "    </tr>\n",
       "    <tr>\n",
       "      <th>...</th>\n",
       "      <td>...</td>\n",
       "      <td>...</td>\n",
       "      <td>...</td>\n",
       "    </tr>\n",
       "    <tr>\n",
       "      <th>106106</th>\n",
       "      <td>2017-07-02 02:00:00</td>\n",
       "      <td>EARN Bitcoin and CASH IN on the BOOMING TREND....</td>\n",
       "      <td>0</td>\n",
       "    </tr>\n",
       "    <tr>\n",
       "      <th>106107</th>\n",
       "      <td>2017-07-02 02:00:00</td>\n",
       "      <td>EARN Bitcoin and CASH IN on the BOOMING TREND....</td>\n",
       "      <td>0</td>\n",
       "    </tr>\n",
       "    <tr>\n",
       "      <th>106108</th>\n",
       "      <td>2017-07-02 02:00:00</td>\n",
       "      <td>BITCOIN Is Becoming More and More MAINSTREAM.....</td>\n",
       "      <td>0</td>\n",
       "    </tr>\n",
       "    <tr>\n",
       "      <th>106109</th>\n",
       "      <td>2017-07-02 01:00:00</td>\n",
       "      <td>Online Penny Slots The biggest trend in gaming...</td>\n",
       "      <td>0</td>\n",
       "    </tr>\n",
       "    <tr>\n",
       "      <th>106110</th>\n",
       "      <td>2017-07-02 00:00:00</td>\n",
       "      <td>EARN Bitcoin and CASH IN on the BOOMING TREND....</td>\n",
       "      <td>0</td>\n",
       "    </tr>\n",
       "  </tbody>\n",
       "</table>\n",
       "<p>106111 rows × 3 columns</p>\n",
       "</div>"
      ],
      "text/plain": [
       "                       time  \\\n",
       "0       2019-11-30 23:00:00   \n",
       "1       2019-11-30 22:00:00   \n",
       "2       2019-11-30 21:00:00   \n",
       "3       2019-11-30 21:00:00   \n",
       "4       2019-11-30 21:00:00   \n",
       "...                     ...   \n",
       "106106  2017-07-02 02:00:00   \n",
       "106107  2017-07-02 02:00:00   \n",
       "106108  2017-07-02 02:00:00   \n",
       "106109  2017-07-02 01:00:00   \n",
       "106110  2017-07-02 00:00:00   \n",
       "\n",
       "                                                     text  retweets  \n",
       "0       Big moves and trend changes are preceded by ab...         0  \n",
       "1       That is a sign of a change of trend ... We can...         0  \n",
       "2       Bitcoin’s Price Drop, an Opportunity! - Future...         0  \n",
       "3       The Bitcoin market tends to repeat itself ofte...         0  \n",
       "4       #BTCUSD - BITCOIN - VA 51 - La halfway ed il c...         0  \n",
       "...                                                   ...       ...  \n",
       "106106  EARN Bitcoin and CASH IN on the BOOMING TREND....         0  \n",
       "106107  EARN Bitcoin and CASH IN on the BOOMING TREND....         0  \n",
       "106108  BITCOIN Is Becoming More and More MAINSTREAM.....         0  \n",
       "106109  Online Penny Slots The biggest trend in gaming...         0  \n",
       "106110  EARN Bitcoin and CASH IN on the BOOMING TREND....         0  \n",
       "\n",
       "[106111 rows x 3 columns]"
      ]
     },
     "execution_count": 24,
     "metadata": {},
     "output_type": "execute_result"
    }
   ],
   "source": [
    "tweets[\"text\"] = tweets.apply(lambda x: re.sub(r\"http\\S+\", \"\", x[\"text\"]),axis=1) #remove urls\n",
    "tweets"
   ]
  },
  {
   "cell_type": "code",
   "execution_count": null,
   "metadata": {},
   "outputs": [],
   "source": [
    "nltk.download('vader_lexicon') #Download VADER specific lexicon"
   ]
  },
  {
   "cell_type": "code",
   "execution_count": 58,
   "metadata": {},
   "outputs": [
    {
     "name": "stdout",
     "output_type": "stream",
     "text": [
      "Big moves and trend changes are preceded by absolutely ambiguous triangles that can go either way right til 3am your time then explode. Such is life. There was an ugly girl who wanted me back in school. She was ugly. Then she became a super model. That's Bitcoin.\n"
     ]
    },
    {
     "data": {
      "text/plain": [
       "{'neg': 0.121, 'neu': 0.807, 'pos': 0.072, 'compound': -0.4019}"
      ]
     },
     "execution_count": 58,
     "metadata": {},
     "output_type": "execute_result"
    }
   ],
   "source": [
    "\n",
    "\n",
    "\n",
    "print(tweets[\"text\"][1])\n",
    "sia.polarity_scores(tweets[\"text\"][1])\n"
   ]
  },
  {
   "cell_type": "code",
   "execution_count": 63,
   "metadata": {},
   "outputs": [
    {
     "name": "stdout",
     "output_type": "stream",
     "text": [
      "0.225\n",
      "0.45\n"
     ]
    }
   ],
   "source": [
    "print(TextBlob(tweets[\"text\"][1]).sentiment.polarity)\n",
    "print(TextBlob(tweets[\"text\"][1]).sentiment.subjectivity)"
   ]
  },
  {
   "cell_type": "code",
   "execution_count": 78,
   "metadata": {},
   "outputs": [],
   "source": [
    "#Add empty columns\n",
    "for col in [\"share_neg\",\"share_neu\",\"share_pos\",\"comp\",\"neg\",\"neu\",\"pos\",\"blob_pol\",\"blob_suj\"]:\n",
    "    tweets[col] = tweets.apply(lambda _: '', axis=1)"
   ]
  },
  {
   "cell_type": "code",
   "execution_count": 81,
   "metadata": {},
   "outputs": [
    {
     "name": "stderr",
     "output_type": "stream",
     "text": [
      "/home/mattia/.local/lib/python3.6/site-packages/ipykernel_launcher.py:10: SettingWithCopyWarning: \n",
      "A value is trying to be set on a copy of a slice from a DataFrame\n",
      "\n",
      "See the caveats in the documentation: http://pandas.pydata.org/pandas-docs/stable/user_guide/indexing.html#returning-a-view-versus-a-copy\n",
      "  # Remove the CWD from sys.path while we load stuff.\n",
      "/home/mattia/.local/lib/python3.6/site-packages/ipykernel_launcher.py:11: SettingWithCopyWarning: \n",
      "A value is trying to be set on a copy of a slice from a DataFrame\n",
      "\n",
      "See the caveats in the documentation: http://pandas.pydata.org/pandas-docs/stable/user_guide/indexing.html#returning-a-view-versus-a-copy\n",
      "  # This is added back by InteractiveShellApp.init_path()\n",
      "/home/mattia/.local/lib/python3.6/site-packages/ipykernel_launcher.py:12: SettingWithCopyWarning: \n",
      "A value is trying to be set on a copy of a slice from a DataFrame\n",
      "\n",
      "See the caveats in the documentation: http://pandas.pydata.org/pandas-docs/stable/user_guide/indexing.html#returning-a-view-versus-a-copy\n",
      "  if sys.path[0] == '':\n",
      "/home/mattia/.local/lib/python3.6/site-packages/ipykernel_launcher.py:13: SettingWithCopyWarning: \n",
      "A value is trying to be set on a copy of a slice from a DataFrame\n",
      "\n",
      "See the caveats in the documentation: http://pandas.pydata.org/pandas-docs/stable/user_guide/indexing.html#returning-a-view-versus-a-copy\n",
      "  del sys.path[0]\n",
      "/home/mattia/.local/lib/python3.6/site-packages/ipykernel_launcher.py:16: SettingWithCopyWarning: \n",
      "A value is trying to be set on a copy of a slice from a DataFrame\n",
      "\n",
      "See the caveats in the documentation: http://pandas.pydata.org/pandas-docs/stable/user_guide/indexing.html#returning-a-view-versus-a-copy\n",
      "  app.launch_new_instance()\n",
      "/home/mattia/.local/lib/python3.6/site-packages/ipykernel_launcher.py:17: SettingWithCopyWarning: \n",
      "A value is trying to be set on a copy of a slice from a DataFrame\n",
      "\n",
      "See the caveats in the documentation: http://pandas.pydata.org/pandas-docs/stable/user_guide/indexing.html#returning-a-view-versus-a-copy\n"
     ]
    }
   ],
   "source": [
    "sia = SentimentIntensityAnalyzer() #Initiate VADER Sentiment Analyzer\n",
    "\n",
    "for index,sentence in enumerate(tweets[\"text\"]):\n",
    "    vader = sia.polarity_scores(sentence)# polarity scores with VADER\n",
    "    blob_pol = TextBlob(sentence).sentiment.polarity# polarity score with TextBlob\n",
    "    blob_suj = TextBlob(sentence).sentiment.subjectivity # polarity scores for analyzed text with VADER\n",
    "    \n",
    "    #Store Results in new Columns\n",
    "    #VADER\n",
    "    tweets[\"share_neg\"][index] = vader[\"neg\"] # % text with negative sentiment\n",
    "    tweets[\"share_neu\"][index] = vader[\"neu\"] # % text with neutral sentiment\n",
    "    tweets[\"share_pos\"][index] = vader[\"pos\"] # % text with positive sentiment\n",
    "    tweets[\"comp\"][index] = vader[\"compound\"] # total Sentiment Score\n",
    "    \n",
    "    #TextBlob\n",
    "    tweets[\"blob_pol\"][index] = blob_pol\n",
    "    tweets[\"blob_suj\"][index] = blob_pol\n",
    "    "
   ]
  },
  {
   "cell_type": "code",
   "execution_count": 140,
   "metadata": {},
   "outputs": [
    {
     "ename": "KeyError",
     "evalue": "\"['compound'] not found in axis\"",
     "output_type": "error",
     "traceback": [
      "\u001b[0;31m---------------------------------------------------------------------------\u001b[0m",
      "\u001b[0;31mKeyError\u001b[0m                                  Traceback (most recent call last)",
      "\u001b[0;32m<ipython-input-140-90a1fc2a974c>\u001b[0m in \u001b[0;36m<module>\u001b[0;34m\u001b[0m\n\u001b[1;32m      4\u001b[0m \u001b[0;34m\u001b[0m\u001b[0m\n\u001b[1;32m      5\u001b[0m \u001b[0;31m#drop useless columns\u001b[0m\u001b[0;34m\u001b[0m\u001b[0;34m\u001b[0m\u001b[0;34m\u001b[0m\u001b[0m\n\u001b[0;32m----> 6\u001b[0;31m \u001b[0mtweets\u001b[0m\u001b[0;34m.\u001b[0m\u001b[0mdrop\u001b[0m\u001b[0;34m(\u001b[0m\u001b[0;34m[\u001b[0m\u001b[0;34m\"retweets\"\u001b[0m\u001b[0;34m,\u001b[0m\u001b[0;34m\"compound\"\u001b[0m\u001b[0;34m]\u001b[0m\u001b[0;34m,\u001b[0m\u001b[0maxis\u001b[0m\u001b[0;34m=\u001b[0m\u001b[0;36m1\u001b[0m\u001b[0;34m,\u001b[0m\u001b[0minplace\u001b[0m\u001b[0;34m=\u001b[0m\u001b[0;32mTrue\u001b[0m\u001b[0;34m)\u001b[0m\u001b[0;34m\u001b[0m\u001b[0;34m\u001b[0m\u001b[0m\n\u001b[0m\u001b[1;32m      7\u001b[0m \u001b[0;34m\u001b[0m\u001b[0m\n\u001b[1;32m      8\u001b[0m \u001b[0mtweets\u001b[0m\u001b[0;34m.\u001b[0m\u001b[0mdtypes\u001b[0m\u001b[0;34m\u001b[0m\u001b[0;34m\u001b[0m\u001b[0m\n",
      "\u001b[0;32m~/.local/lib/python3.6/site-packages/pandas/core/frame.py\u001b[0m in \u001b[0;36mdrop\u001b[0;34m(self, labels, axis, index, columns, level, inplace, errors)\u001b[0m\n\u001b[1;32m   4115\u001b[0m             \u001b[0mlevel\u001b[0m\u001b[0;34m=\u001b[0m\u001b[0mlevel\u001b[0m\u001b[0;34m,\u001b[0m\u001b[0;34m\u001b[0m\u001b[0;34m\u001b[0m\u001b[0m\n\u001b[1;32m   4116\u001b[0m             \u001b[0minplace\u001b[0m\u001b[0;34m=\u001b[0m\u001b[0minplace\u001b[0m\u001b[0;34m,\u001b[0m\u001b[0;34m\u001b[0m\u001b[0;34m\u001b[0m\u001b[0m\n\u001b[0;32m-> 4117\u001b[0;31m             \u001b[0merrors\u001b[0m\u001b[0;34m=\u001b[0m\u001b[0merrors\u001b[0m\u001b[0;34m,\u001b[0m\u001b[0;34m\u001b[0m\u001b[0;34m\u001b[0m\u001b[0m\n\u001b[0m\u001b[1;32m   4118\u001b[0m         )\n\u001b[1;32m   4119\u001b[0m \u001b[0;34m\u001b[0m\u001b[0m\n",
      "\u001b[0;32m~/.local/lib/python3.6/site-packages/pandas/core/generic.py\u001b[0m in \u001b[0;36mdrop\u001b[0;34m(self, labels, axis, index, columns, level, inplace, errors)\u001b[0m\n\u001b[1;32m   3912\u001b[0m         \u001b[0;32mfor\u001b[0m \u001b[0maxis\u001b[0m\u001b[0;34m,\u001b[0m \u001b[0mlabels\u001b[0m \u001b[0;32min\u001b[0m \u001b[0maxes\u001b[0m\u001b[0;34m.\u001b[0m\u001b[0mitems\u001b[0m\u001b[0;34m(\u001b[0m\u001b[0;34m)\u001b[0m\u001b[0;34m:\u001b[0m\u001b[0;34m\u001b[0m\u001b[0;34m\u001b[0m\u001b[0m\n\u001b[1;32m   3913\u001b[0m             \u001b[0;32mif\u001b[0m \u001b[0mlabels\u001b[0m \u001b[0;32mis\u001b[0m \u001b[0;32mnot\u001b[0m \u001b[0;32mNone\u001b[0m\u001b[0;34m:\u001b[0m\u001b[0;34m\u001b[0m\u001b[0;34m\u001b[0m\u001b[0m\n\u001b[0;32m-> 3914\u001b[0;31m                 \u001b[0mobj\u001b[0m \u001b[0;34m=\u001b[0m \u001b[0mobj\u001b[0m\u001b[0;34m.\u001b[0m\u001b[0m_drop_axis\u001b[0m\u001b[0;34m(\u001b[0m\u001b[0mlabels\u001b[0m\u001b[0;34m,\u001b[0m \u001b[0maxis\u001b[0m\u001b[0;34m,\u001b[0m \u001b[0mlevel\u001b[0m\u001b[0;34m=\u001b[0m\u001b[0mlevel\u001b[0m\u001b[0;34m,\u001b[0m \u001b[0merrors\u001b[0m\u001b[0;34m=\u001b[0m\u001b[0merrors\u001b[0m\u001b[0;34m)\u001b[0m\u001b[0;34m\u001b[0m\u001b[0;34m\u001b[0m\u001b[0m\n\u001b[0m\u001b[1;32m   3915\u001b[0m \u001b[0;34m\u001b[0m\u001b[0m\n\u001b[1;32m   3916\u001b[0m         \u001b[0;32mif\u001b[0m \u001b[0minplace\u001b[0m\u001b[0;34m:\u001b[0m\u001b[0;34m\u001b[0m\u001b[0;34m\u001b[0m\u001b[0m\n",
      "\u001b[0;32m~/.local/lib/python3.6/site-packages/pandas/core/generic.py\u001b[0m in \u001b[0;36m_drop_axis\u001b[0;34m(self, labels, axis, level, errors)\u001b[0m\n\u001b[1;32m   3944\u001b[0m                 \u001b[0mnew_axis\u001b[0m \u001b[0;34m=\u001b[0m \u001b[0maxis\u001b[0m\u001b[0;34m.\u001b[0m\u001b[0mdrop\u001b[0m\u001b[0;34m(\u001b[0m\u001b[0mlabels\u001b[0m\u001b[0;34m,\u001b[0m \u001b[0mlevel\u001b[0m\u001b[0;34m=\u001b[0m\u001b[0mlevel\u001b[0m\u001b[0;34m,\u001b[0m \u001b[0merrors\u001b[0m\u001b[0;34m=\u001b[0m\u001b[0merrors\u001b[0m\u001b[0;34m)\u001b[0m\u001b[0;34m\u001b[0m\u001b[0;34m\u001b[0m\u001b[0m\n\u001b[1;32m   3945\u001b[0m             \u001b[0;32melse\u001b[0m\u001b[0;34m:\u001b[0m\u001b[0;34m\u001b[0m\u001b[0;34m\u001b[0m\u001b[0m\n\u001b[0;32m-> 3946\u001b[0;31m                 \u001b[0mnew_axis\u001b[0m \u001b[0;34m=\u001b[0m \u001b[0maxis\u001b[0m\u001b[0;34m.\u001b[0m\u001b[0mdrop\u001b[0m\u001b[0;34m(\u001b[0m\u001b[0mlabels\u001b[0m\u001b[0;34m,\u001b[0m \u001b[0merrors\u001b[0m\u001b[0;34m=\u001b[0m\u001b[0merrors\u001b[0m\u001b[0;34m)\u001b[0m\u001b[0;34m\u001b[0m\u001b[0;34m\u001b[0m\u001b[0m\n\u001b[0m\u001b[1;32m   3947\u001b[0m             \u001b[0mresult\u001b[0m \u001b[0;34m=\u001b[0m \u001b[0mself\u001b[0m\u001b[0;34m.\u001b[0m\u001b[0mreindex\u001b[0m\u001b[0;34m(\u001b[0m\u001b[0;34m**\u001b[0m\u001b[0;34m{\u001b[0m\u001b[0maxis_name\u001b[0m\u001b[0;34m:\u001b[0m \u001b[0mnew_axis\u001b[0m\u001b[0;34m}\u001b[0m\u001b[0;34m)\u001b[0m\u001b[0;34m\u001b[0m\u001b[0;34m\u001b[0m\u001b[0m\n\u001b[1;32m   3948\u001b[0m \u001b[0;34m\u001b[0m\u001b[0m\n",
      "\u001b[0;32m~/.local/lib/python3.6/site-packages/pandas/core/indexes/base.py\u001b[0m in \u001b[0;36mdrop\u001b[0;34m(self, labels, errors)\u001b[0m\n\u001b[1;32m   5338\u001b[0m         \u001b[0;32mif\u001b[0m \u001b[0mmask\u001b[0m\u001b[0;34m.\u001b[0m\u001b[0many\u001b[0m\u001b[0;34m(\u001b[0m\u001b[0;34m)\u001b[0m\u001b[0;34m:\u001b[0m\u001b[0;34m\u001b[0m\u001b[0;34m\u001b[0m\u001b[0m\n\u001b[1;32m   5339\u001b[0m             \u001b[0;32mif\u001b[0m \u001b[0merrors\u001b[0m \u001b[0;34m!=\u001b[0m \u001b[0;34m\"ignore\"\u001b[0m\u001b[0;34m:\u001b[0m\u001b[0;34m\u001b[0m\u001b[0;34m\u001b[0m\u001b[0m\n\u001b[0;32m-> 5340\u001b[0;31m                 \u001b[0;32mraise\u001b[0m \u001b[0mKeyError\u001b[0m\u001b[0;34m(\u001b[0m\u001b[0;34m\"{} not found in axis\"\u001b[0m\u001b[0;34m.\u001b[0m\u001b[0mformat\u001b[0m\u001b[0;34m(\u001b[0m\u001b[0mlabels\u001b[0m\u001b[0;34m[\u001b[0m\u001b[0mmask\u001b[0m\u001b[0;34m]\u001b[0m\u001b[0;34m)\u001b[0m\u001b[0;34m)\u001b[0m\u001b[0;34m\u001b[0m\u001b[0;34m\u001b[0m\u001b[0m\n\u001b[0m\u001b[1;32m   5341\u001b[0m             \u001b[0mindexer\u001b[0m \u001b[0;34m=\u001b[0m \u001b[0mindexer\u001b[0m\u001b[0;34m[\u001b[0m\u001b[0;34m~\u001b[0m\u001b[0mmask\u001b[0m\u001b[0;34m]\u001b[0m\u001b[0;34m\u001b[0m\u001b[0;34m\u001b[0m\u001b[0m\n\u001b[1;32m   5342\u001b[0m         \u001b[0;32mreturn\u001b[0m \u001b[0mself\u001b[0m\u001b[0;34m.\u001b[0m\u001b[0mdelete\u001b[0m\u001b[0;34m(\u001b[0m\u001b[0mindexer\u001b[0m\u001b[0;34m)\u001b[0m\u001b[0;34m\u001b[0m\u001b[0;34m\u001b[0m\u001b[0m\n",
      "\u001b[0;31mKeyError\u001b[0m: \"['compound'] not found in axis\""
     ]
    }
   ],
   "source": [
    "#manage types\n",
    "for col in [\"share_neg\",\"share_neu\",\"share_pos\",\"comp\",\"neg\",\"neu\",\"pos\",\"blob_pol\",\"blob_suj\"]:\n",
    "    tweets[col] = pd.to_numeric(tweets[col], errors=\"coerce\")\n",
    "\n",
    "#drop useless columns\n",
    "tweets.drop([\"compound\"],axis=1,inplace=True)\n",
    "    \n",
    "tweets.dtypes"
   ]
  },
  {
   "cell_type": "code",
   "execution_count": 141,
   "metadata": {},
   "outputs": [
    {
     "name": "stdout",
     "output_type": "stream",
     "text": [
      "45364\n",
      "44307\n",
      "28950\n"
     ]
    }
   ],
   "source": [
    "#check responsiveness of both VADER and TextBlob\n",
    "print(len(tweets[tweets[\"comp\"] == 0]))\n",
    "print(len(tweets[tweets[\"blob_pol\"] == 0]))\n",
    "print(len(tweets[(tweets[\"comp\"] == 0) & (tweets[\"blob_pol\"] == 0)]))\n"
   ]
  },
  {
   "cell_type": "code",
   "execution_count": 142,
   "metadata": {},
   "outputs": [
    {
     "data": {
      "text/html": [
       "<div>\n",
       "<style scoped>\n",
       "    .dataframe tbody tr th:only-of-type {\n",
       "        vertical-align: middle;\n",
       "    }\n",
       "\n",
       "    .dataframe tbody tr th {\n",
       "        vertical-align: top;\n",
       "    }\n",
       "\n",
       "    .dataframe thead th {\n",
       "        text-align: right;\n",
       "    }\n",
       "</style>\n",
       "<table border=\"1\" class=\"dataframe\">\n",
       "  <thead>\n",
       "    <tr style=\"text-align: right;\">\n",
       "      <th></th>\n",
       "      <th>time</th>\n",
       "      <th>text</th>\n",
       "      <th>retweets</th>\n",
       "      <th>share_neg</th>\n",
       "      <th>share_neu</th>\n",
       "      <th>share_pos</th>\n",
       "      <th>comp</th>\n",
       "      <th>neg</th>\n",
       "      <th>neu</th>\n",
       "      <th>pos</th>\n",
       "      <th>blob_pol</th>\n",
       "      <th>blob_suj</th>\n",
       "    </tr>\n",
       "  </thead>\n",
       "  <tbody>\n",
       "    <tr>\n",
       "      <th>0</th>\n",
       "      <td>2019-11-30 23:00:00</td>\n",
       "      <td>Big moves and trend changes are preceded by ab...</td>\n",
       "      <td>0</td>\n",
       "      <td>0.121</td>\n",
       "      <td>0.807</td>\n",
       "      <td>0.072</td>\n",
       "      <td>-0.4019</td>\n",
       "      <td>1</td>\n",
       "      <td>0</td>\n",
       "      <td>0</td>\n",
       "      <td>-0.072619</td>\n",
       "      <td>-0.072619</td>\n",
       "    </tr>\n",
       "    <tr>\n",
       "      <th>1</th>\n",
       "      <td>2019-11-30 22:00:00</td>\n",
       "      <td>That is a sign of a change of trend ... We can...</td>\n",
       "      <td>0</td>\n",
       "      <td>0.000</td>\n",
       "      <td>1.000</td>\n",
       "      <td>0.000</td>\n",
       "      <td>0.0000</td>\n",
       "      <td>0</td>\n",
       "      <td>0</td>\n",
       "      <td>1</td>\n",
       "      <td>0.225000</td>\n",
       "      <td>0.225000</td>\n",
       "    </tr>\n",
       "    <tr>\n",
       "      <th>2</th>\n",
       "      <td>2019-11-30 21:00:00</td>\n",
       "      <td>Bitcoin’s Price Drop, an Opportunity! - Future...</td>\n",
       "      <td>0</td>\n",
       "      <td>0.188</td>\n",
       "      <td>0.536</td>\n",
       "      <td>0.276</td>\n",
       "      <td>0.2481</td>\n",
       "      <td>0</td>\n",
       "      <td>0</td>\n",
       "      <td>1</td>\n",
       "      <td>0.000000</td>\n",
       "      <td>0.000000</td>\n",
       "    </tr>\n",
       "    <tr>\n",
       "      <th>3</th>\n",
       "      <td>2019-11-30 21:00:00</td>\n",
       "      <td>The Bitcoin market tends to repeat itself ofte...</td>\n",
       "      <td>0</td>\n",
       "      <td>0.000</td>\n",
       "      <td>1.000</td>\n",
       "      <td>0.000</td>\n",
       "      <td>0.0000</td>\n",
       "      <td>0</td>\n",
       "      <td>0</td>\n",
       "      <td>1</td>\n",
       "      <td>0.050000</td>\n",
       "      <td>0.050000</td>\n",
       "    </tr>\n",
       "    <tr>\n",
       "      <th>4</th>\n",
       "      <td>2019-11-30 21:00:00</td>\n",
       "      <td>#BTCUSD - BITCOIN - VA 51 - La halfway ed il c...</td>\n",
       "      <td>0</td>\n",
       "      <td>0.000</td>\n",
       "      <td>1.000</td>\n",
       "      <td>0.000</td>\n",
       "      <td>0.0000</td>\n",
       "      <td>0</td>\n",
       "      <td>1</td>\n",
       "      <td>0</td>\n",
       "      <td>0.000000</td>\n",
       "      <td>0.000000</td>\n",
       "    </tr>\n",
       "  </tbody>\n",
       "</table>\n",
       "</div>"
      ],
      "text/plain": [
       "                  time                                               text  \\\n",
       "0  2019-11-30 23:00:00  Big moves and trend changes are preceded by ab...   \n",
       "1  2019-11-30 22:00:00  That is a sign of a change of trend ... We can...   \n",
       "2  2019-11-30 21:00:00  Bitcoin’s Price Drop, an Opportunity! - Future...   \n",
       "3  2019-11-30 21:00:00  The Bitcoin market tends to repeat itself ofte...   \n",
       "4  2019-11-30 21:00:00  #BTCUSD - BITCOIN - VA 51 - La halfway ed il c...   \n",
       "\n",
       "   retweets  share_neg  share_neu  share_pos    comp  neg  neu  pos  blob_pol  \\\n",
       "0         0      0.121      0.807      0.072 -0.4019    1    0    0 -0.072619   \n",
       "1         0      0.000      1.000      0.000  0.0000    0    0    1  0.225000   \n",
       "2         0      0.188      0.536      0.276  0.2481    0    0    1  0.000000   \n",
       "3         0      0.000      1.000      0.000  0.0000    0    0    1  0.050000   \n",
       "4         0      0.000      1.000      0.000  0.0000    0    1    0  0.000000   \n",
       "\n",
       "   blob_suj  \n",
       "0 -0.072619  \n",
       "1  0.225000  \n",
       "2  0.000000  \n",
       "3  0.050000  \n",
       "4  0.000000  "
      ]
     },
     "execution_count": 142,
     "metadata": {},
     "output_type": "execute_result"
    }
   ],
   "source": [
    "tweets.head()"
   ]
  },
  {
   "cell_type": "code",
   "execution_count": 143,
   "metadata": {},
   "outputs": [],
   "source": [
    "#INTEGRATE VADER AND TEXTBLOB RESULTS\n",
    "\n",
    "#Dummy for NEGATIVE Sentiment based on VADER and use TextBlob when VADER = 0\n",
    "tweets[\"neg\"] = tweets.apply(lambda x: 1 if (\n",
    "    (x[\"comp\"] <= -0.05) or (x[\"comp\"] == 0 and x[\"blob_pol\"] < 0)) else 0,axis=1)\n",
    "\n",
    "#Dummy for POSTIVE Sentiment based on VADER and use TextBlob when VADER = 0\n",
    "tweets[\"pos\"] = tweets.apply(lambda x: 1 if (\n",
    "    (x[\"comp\"] >=0.05) or (x[\"comp\"] == 0 and x[\"blob_pol\"] > 0)) else 0,axis=1)\n",
    "\n",
    "#Dummy for NUTRAL Sentiment (VADER PRIVILEDGED CAUSE IS SUPPOSED TO BE MORE ACCURATE)\n",
    "tweets[\"neu\"] = tweets.apply(lambda x: 1 if (\n",
    "    0.05 > x[\"comp\"] > -0.05 and ((x[\"neg\"] == 0 and x[\"pos\"] == 0))) else 0,axis=1)"
   ]
  },
  {
   "cell_type": "code",
   "execution_count": 144,
   "metadata": {},
   "outputs": [
    {
     "data": {
      "text/html": [
       "<div>\n",
       "<style scoped>\n",
       "    .dataframe tbody tr th:only-of-type {\n",
       "        vertical-align: middle;\n",
       "    }\n",
       "\n",
       "    .dataframe tbody tr th {\n",
       "        vertical-align: top;\n",
       "    }\n",
       "\n",
       "    .dataframe thead th {\n",
       "        text-align: right;\n",
       "    }\n",
       "</style>\n",
       "<table border=\"1\" class=\"dataframe\">\n",
       "  <thead>\n",
       "    <tr style=\"text-align: right;\">\n",
       "      <th></th>\n",
       "      <th>time</th>\n",
       "      <th>text</th>\n",
       "      <th>retweets</th>\n",
       "      <th>share_neg</th>\n",
       "      <th>share_neu</th>\n",
       "      <th>share_pos</th>\n",
       "      <th>comp</th>\n",
       "      <th>neg</th>\n",
       "      <th>neu</th>\n",
       "      <th>pos</th>\n",
       "      <th>blob_pol</th>\n",
       "      <th>blob_suj</th>\n",
       "    </tr>\n",
       "  </thead>\n",
       "  <tbody>\n",
       "    <tr>\n",
       "      <th>0</th>\n",
       "      <td>2019-11-30 23:00:00</td>\n",
       "      <td>Big moves and trend changes are preceded by ab...</td>\n",
       "      <td>0</td>\n",
       "      <td>0.121</td>\n",
       "      <td>0.807</td>\n",
       "      <td>0.072</td>\n",
       "      <td>-0.4019</td>\n",
       "      <td>1</td>\n",
       "      <td>0</td>\n",
       "      <td>0</td>\n",
       "      <td>-0.072619</td>\n",
       "      <td>-0.072619</td>\n",
       "    </tr>\n",
       "    <tr>\n",
       "      <th>1</th>\n",
       "      <td>2019-11-30 22:00:00</td>\n",
       "      <td>That is a sign of a change of trend ... We can...</td>\n",
       "      <td>0</td>\n",
       "      <td>0.000</td>\n",
       "      <td>1.000</td>\n",
       "      <td>0.000</td>\n",
       "      <td>0.0000</td>\n",
       "      <td>0</td>\n",
       "      <td>0</td>\n",
       "      <td>1</td>\n",
       "      <td>0.225000</td>\n",
       "      <td>0.225000</td>\n",
       "    </tr>\n",
       "    <tr>\n",
       "      <th>2</th>\n",
       "      <td>2019-11-30 21:00:00</td>\n",
       "      <td>Bitcoin’s Price Drop, an Opportunity! - Future...</td>\n",
       "      <td>0</td>\n",
       "      <td>0.188</td>\n",
       "      <td>0.536</td>\n",
       "      <td>0.276</td>\n",
       "      <td>0.2481</td>\n",
       "      <td>0</td>\n",
       "      <td>0</td>\n",
       "      <td>1</td>\n",
       "      <td>0.000000</td>\n",
       "      <td>0.000000</td>\n",
       "    </tr>\n",
       "    <tr>\n",
       "      <th>3</th>\n",
       "      <td>2019-11-30 21:00:00</td>\n",
       "      <td>The Bitcoin market tends to repeat itself ofte...</td>\n",
       "      <td>0</td>\n",
       "      <td>0.000</td>\n",
       "      <td>1.000</td>\n",
       "      <td>0.000</td>\n",
       "      <td>0.0000</td>\n",
       "      <td>0</td>\n",
       "      <td>0</td>\n",
       "      <td>1</td>\n",
       "      <td>0.050000</td>\n",
       "      <td>0.050000</td>\n",
       "    </tr>\n",
       "    <tr>\n",
       "      <th>4</th>\n",
       "      <td>2019-11-30 21:00:00</td>\n",
       "      <td>#BTCUSD - BITCOIN - VA 51 - La halfway ed il c...</td>\n",
       "      <td>0</td>\n",
       "      <td>0.000</td>\n",
       "      <td>1.000</td>\n",
       "      <td>0.000</td>\n",
       "      <td>0.0000</td>\n",
       "      <td>0</td>\n",
       "      <td>1</td>\n",
       "      <td>0</td>\n",
       "      <td>0.000000</td>\n",
       "      <td>0.000000</td>\n",
       "    </tr>\n",
       "  </tbody>\n",
       "</table>\n",
       "</div>"
      ],
      "text/plain": [
       "                  time                                               text  \\\n",
       "0  2019-11-30 23:00:00  Big moves and trend changes are preceded by ab...   \n",
       "1  2019-11-30 22:00:00  That is a sign of a change of trend ... We can...   \n",
       "2  2019-11-30 21:00:00  Bitcoin’s Price Drop, an Opportunity! - Future...   \n",
       "3  2019-11-30 21:00:00  The Bitcoin market tends to repeat itself ofte...   \n",
       "4  2019-11-30 21:00:00  #BTCUSD - BITCOIN - VA 51 - La halfway ed il c...   \n",
       "\n",
       "   retweets  share_neg  share_neu  share_pos    comp  neg  neu  pos  blob_pol  \\\n",
       "0         0      0.121      0.807      0.072 -0.4019    1    0    0 -0.072619   \n",
       "1         0      0.000      1.000      0.000  0.0000    0    0    1  0.225000   \n",
       "2         0      0.188      0.536      0.276  0.2481    0    0    1  0.000000   \n",
       "3         0      0.000      1.000      0.000  0.0000    0    0    1  0.050000   \n",
       "4         0      0.000      1.000      0.000  0.0000    0    1    0  0.000000   \n",
       "\n",
       "   blob_suj  \n",
       "0 -0.072619  \n",
       "1  0.225000  \n",
       "2  0.000000  \n",
       "3  0.050000  \n",
       "4  0.000000  "
      ]
     },
     "execution_count": 144,
     "metadata": {},
     "output_type": "execute_result"
    }
   ],
   "source": [
    "tweets.head()"
   ]
  },
  {
   "cell_type": "code",
   "execution_count": 145,
   "metadata": {},
   "outputs": [],
   "source": [
    "#drop useless columns\n",
    "tweets.drop([\"retweets\"],axis=1,inplace=True)"
   ]
  },
  {
   "cell_type": "code",
   "execution_count": 146,
   "metadata": {},
   "outputs": [
    {
     "data": {
      "text/plain": [
       "time          object\n",
       "text          object\n",
       "share_neg    float64\n",
       "share_neu    float64\n",
       "share_pos    float64\n",
       "comp         float64\n",
       "neg            int64\n",
       "neu            int64\n",
       "pos            int64\n",
       "blob_pol     float64\n",
       "blob_suj     float64\n",
       "dtype: object"
      ]
     },
     "execution_count": 146,
     "metadata": {},
     "output_type": "execute_result"
    }
   ],
   "source": [
    "tweets.dtypes"
   ]
  },
  {
   "cell_type": "code",
   "execution_count": 147,
   "metadata": {},
   "outputs": [],
   "source": [
    "tweets.to_csv(\"Sentiment_TS.csv\")"
   ]
  },
  {
   "cell_type": "code",
   "execution_count": null,
   "metadata": {},
   "outputs": [],
   "source": []
  }
 ],
 "metadata": {
  "kernelspec": {
   "display_name": "Python 3",
   "language": "python",
   "name": "python3"
  },
  "language_info": {
   "codemirror_mode": {
    "name": "ipython",
    "version": 3
   },
   "file_extension": ".py",
   "mimetype": "text/x-python",
   "name": "python",
   "nbconvert_exporter": "python",
   "pygments_lexer": "ipython3",
   "version": "3.6.9"
  }
 },
 "nbformat": 4,
 "nbformat_minor": 2
}
